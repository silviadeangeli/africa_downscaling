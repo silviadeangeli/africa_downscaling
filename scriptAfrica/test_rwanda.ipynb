{
 "cells": [
  {
   "cell_type": "code",
   "execution_count": 3,
   "metadata": {},
   "outputs": [
    {
     "name": "stdout",
     "output_type": "stream",
     "text": [
      "Populating the interactive namespace from numpy and matplotlib\n"
     ]
    },
    {
     "name": "stderr",
     "output_type": "stream",
     "text": [
      "C:\\Users\\Silvia\\Miniconda3\\envs\\africa_downscaling\\lib\\site-packages\\IPython\\core\\magics\\pylab.py:160: UserWarning: pylab import has clobbered these variables: ['plt']\n",
      "`%matplotlib` prevents importing * from pylab and numpy\n",
      "  \"\\n`%matplotlib` prevents importing * from pylab and numpy\"\n"
     ]
    }
   ],
   "source": [
    "%pylab inline\n",
    "import sys\n",
    "import rasterio as rio\n",
    "sys.path.append('E:/africa_downscaling/scriptAfrica')\n",
    "from Geotiff_Silvia import readFile, readFile_withNoData, writeGeotiffSingleBand, readFileBand\n",
    "\n",
    "import numpy as np\n",
    "from os.path import join\n",
    "import os\n",
    "from rasterRegrid import rasterRegrid\n",
    "import matplotlib.pylab as plt\n",
    "from africa_tools import log_print\n",
    "\n",
    "path_valfis = \"E:/africa_downscaling/Rwanda/RW_valfis/\"\n",
    "sFile_C1 = path_valfis + \"C1.tif\"\n",
    "sFile_M1 = path_valfis + \"M1.tif\"\n",
    "sFile_M2 = path_valfis + \"M2.tif\"\n",
    "sFile_W1 = path_valfis + \"W1.tif\"\n",
    "\n",
    "path_p = \"E:/africa_downscaling/Rwanda/percent_int_20180806/\"\n",
    "sFile_C1_p = path_p + \"C1.tiff\"\n",
    "sFile_M1_p = path_p + \"M1.tiff\"\n",
    "sFile_M2_p = path_p + \"M2.tiff\"\n",
    "sFile_W1_p = path_p + \"W1.tiff\"\n",
    "\n",
    "# outputs\n",
    "sFile_hous = \"E:/africa_downscaling/Rwanda/new_sectors_0806/rw_housing.tif\"\n",
    "sFile_ind = \"E:/africa_downscaling/Rwanda/new_sectors_0806/rw_industrial.tif\"\n",
    "sFile_serv = \"E:/africa_downscaling/Rwanda/new_sectors_0806/rw_services.tif\""
   ]
  },
  {
   "cell_type": "code",
   "execution_count": 2,
   "metadata": {},
   "outputs": [],
   "source": [
    "[xsize, ysize, geotransform, geoproj, data_C1]   = readFile_withNoData(sFile_C1)"
   ]
  },
  {
   "cell_type": "code",
   "execution_count": 29,
   "metadata": {},
   "outputs": [],
   "source": [
    "import rasterio as rio\n",
    "\n",
    "def readMultiBandGeotiff(file):\n",
    "    ret_vals = []\n",
    "    with rio.open(file) as f:\n",
    "        for band in range(f.count):\n",
    "            data = f.read_band(band+1)\n",
    "            ret_vals.append(data)\n",
    "        return ret_vals"
   ]
  },
  {
   "cell_type": "code",
   "execution_count": 30,
   "metadata": {},
   "outputs": [
    {
     "name": "stderr",
     "output_type": "stream",
     "text": [
      "C:\\Users\\Silvia\\Miniconda3\\envs\\africa_downscaling\\lib\\site-packages\\ipykernel_launcher.py:1: FutureWarning: read_band() is deprecated and will be removed by Rasterio 1.0. Please use read() instead.\n",
      "  \"\"\"Entry point for launching an IPython kernel.\n"
     ]
    }
   ],
   "source": [
    "data_C1_p1, data_C1_p2, data_C1_p3, data_C1_p4, data_C1_p5, data_C1_p6 = readMultiBandGeotiff(sFile_C1_p)\n"
   ]
  },
  {
   "cell_type": "code",
   "execution_count": 21,
   "metadata": {},
   "outputs": [
    {
     "data": {
      "text/plain": [
       "(1, 2166, 2466)"
      ]
     },
     "execution_count": 21,
     "metadata": {},
     "output_type": "execute_result"
    }
   ],
   "source": [
    "f.read"
   ]
  },
  {
   "cell_type": "code",
   "execution_count": 11,
   "metadata": {},
   "outputs": [
    {
     "data": {
      "text/plain": [
       "(0.0, 675.0193481445312)"
      ]
     },
     "execution_count": 11,
     "metadata": {},
     "output_type": "execute_result"
    }
   ],
   "source": [
    "nanmin(data_C1), nanmax(data_C1)"
   ]
  },
  {
   "cell_type": "code",
   "execution_count": 13,
   "metadata": {},
   "outputs": [
    {
     "name": "stdout",
     "output_type": "stream",
     "text": [
      "E:/africa_downscaling/Rwanda/RW_valfis/C1.tif\n",
      "<osgeo.gdal.Dataset; proxy of <Swig Object of type 'GDALDatasetShadow *' at 0x0000021EBAE14780> >\n",
      "<osgeo.gdal.Band; proxy of <Swig Object of type 'GDALRasterBandShadow *' at 0x0000021EBAE146C0> >\n",
      "nan\n"
     ]
    },
    {
     "name": "stderr",
     "output_type": "stream",
     "text": [
      "C:\\Users\\Silvia\\Miniconda3\\envs\\africa_downscaling\\lib\\site-packages\\numpy\\core\\fromnumeric.py:83: RuntimeWarning: invalid value encountered in reduce\n",
      "  return ufunc.reduce(obj, axis, dtype, out, **passkwargs)\n"
     ]
    },
    {
     "name": "stdout",
     "output_type": "stream",
     "text": [
      "[[nan nan nan ... nan nan nan]\n",
      " [nan nan nan ... nan nan nan]\n",
      " [nan nan nan ... nan nan nan]\n",
      " ...\n",
      " [nan nan nan ... nan nan nan]\n",
      " [nan nan nan ... nan nan nan]\n",
      " [nan nan nan ... nan nan nan]]\n",
      "nan\n",
      "[[nan nan nan ... nan nan nan]\n",
      " [nan nan nan ... nan nan nan]\n",
      " [nan nan nan ... nan nan nan]\n",
      " ...\n",
      " [nan nan nan ... nan nan nan]\n",
      " [nan nan nan ... nan nan nan]\n",
      " [nan nan nan ... nan nan nan]]\n",
      "[[nan nan nan ... nan nan nan]\n",
      " [nan nan nan ... nan nan nan]\n",
      " [nan nan nan ... nan nan nan]\n",
      " ...\n",
      " [nan nan nan ... nan nan nan]\n",
      " [nan nan nan ... nan nan nan]\n",
      " [nan nan nan ... nan nan nan]]\n",
      "[[nan nan nan ... nan nan nan]\n",
      " [nan nan nan ... nan nan nan]\n",
      " [nan nan nan ... nan nan nan]\n",
      " ...\n",
      " [nan nan nan ... nan nan nan]\n",
      " [nan nan nan ... nan nan nan]\n",
      " [nan nan nan ... nan nan nan]]\n",
      "2018-08-06 11:50:21 - total housing: [2359811946.3347354]\n",
      "2018-08-06 11:50:21 - total industrial: [733120347.0262994]\n",
      "2018-08-06 11:50:22 - total service: [3745438804.529819]\n"
     ]
    },
    {
     "data": {
      "text/plain": [
       "1"
      ]
     },
     "execution_count": 13,
     "metadata": {},
     "output_type": "execute_result"
    }
   ],
   "source": [
    "[xsize, ysize, geotransform, geoproj, data_C1]   = readFile_withNoData(sFile_C1)\n",
    "[xsize, ysize, geotransform, geoproj, data_M1]   = readFile(sFile_M1)\n",
    "[xsize, ysize, geotransform, geoproj, data_M2]   = readFile(sFile_M2)\n",
    "#[xsize, ysize, geotransform, geoproj, data_T1]   = readFile(sFile_T1)\n",
    "[xsize, ysize, geotransform, geoproj, data_W1]   = readFile(sFile_W1)\n",
    "\n",
    "[xsize, ysize, geotransform, geoproj, data_C1_p1]   = readFileBand(sFile_C1_p, 1)\n",
    "[xsize, ysize, geotransform, geoproj, data_M1_p1]   = readFileBand(sFile_M1_p, 1)\n",
    "[xsize, ysize, geotransform, geoproj, data_M2_p1]   = readFileBand(sFile_M2_p, 1)\n",
    "#[xsize, ysize, geotransform, geoproj, data_T1_p1]   = readFileBand(sFile_T1_p, 1)\n",
    "[xsize, ysize, geotransform, geoproj, data_W1_p1]   = readFileBand(sFile_W1_p, 1)\n",
    "\n",
    "[xsize, ysize, geotransform, geoproj, data_C1_p2]   = readFileBand(sFile_C1_p, 2)\n",
    "[xsize, ysize, geotransform, geoproj, data_M1_p2]   = readFileBand(sFile_M1_p, 2)\n",
    "[xsize, ysize, geotransform, geoproj, data_M2_p2]   = readFileBand(sFile_M2_p, 2)\n",
    "#[xsize, ysize, geotransform, geoproj, data_T1_p2]   = readFileBand(sFile_T1_p, 2)\n",
    "[xsize, ysize, geotransform, geoproj, data_W1_p2]   = readFileBand(sFile_W1_p, 2)\n",
    "\n",
    "[xsize, ysize, geotransform, geoproj, data_C1_p3]   = readFileBand(sFile_C1_p, 3)\n",
    "[xsize, ysize, geotransform, geoproj, data_M1_p3]   = readFileBand(sFile_M1_p, 3)\n",
    "[xsize, ysize, geotransform, geoproj, data_M2_p3]   = readFileBand(sFile_M2_p, 3)\n",
    "#[xsize, ysize, geotransform, geoproj, data_T1_p3]   = readFileBand(sFile_T1_p, 3)\n",
    "[xsize, ysize, geotransform, geoproj, data_W1_p3]   = readFileBand(sFile_W1_p, 3)\n",
    "\n",
    "[xsize, ysize, geotransform, geoproj, data_C1_p5]   = readFileBand(sFile_C1_p, 5)\n",
    "[xsize, ysize, geotransform, geoproj, data_M1_p5]   = readFileBand(sFile_M1_p, 5)\n",
    "[xsize, ysize, geotransform, geoproj, data_M2_p5]   = readFileBand(sFile_M2_p, 5)\n",
    "#[xsize, ysize, geotransform, geoproj, data_T1_p5]   = readFileBand(sFile_T1_p, 5)\n",
    "[xsize, ysize, geotransform, geoproj, data_W1_p5]   = readFileBand(sFile_W1_p, 5)\n",
    "\n",
    "[xsize, ysize, geotransform, geoproj, data_C1_p6]   = readFileBand(sFile_C1_p, 6)\n",
    "[xsize, ysize, geotransform, geoproj, data_M1_p6]   = readFileBand(sFile_M1_p, 6)\n",
    "[xsize, ysize, geotransform, geoproj, data_M2_p6]   = readFileBand(sFile_M2_p, 6)\n",
    "#[xsize, ysize, geotransform, geoproj, data_T1_p6]   = readFileBand(sFile_T1_p, 6)\n",
    "[xsize, ysize, geotransform, geoproj, data_W1_p6]   = readFileBand(sFile_W1_p, 6)\n",
    "\n",
    "\n",
    "data_hous = (data_C1*data_C1_p1+data_C1*data_C1_p2+data_M1*data_M1_p1+data_M1*data_M1_p2+data_M2*data_M2_p1+data_M2*data_M2_p2+data_W1*data_W1_p1+data_W1*data_W1_p2)/100\n",
    "\n",
    "hous_tot = np.nansum(data_hous)\n",
    "\n",
    "log_print(f'total housing: [{hous_tot}]')\n",
    "\n",
    "\n",
    "data_ind = (data_C1*data_C1_p6+data_M1*data_M1_p6+data_M2*data_M2_p6+data_W1*data_W1_p6)/100\n",
    "\n",
    "ind_tot = np.nansum(data_ind)\n",
    "\n",
    "log_print(f'total industrial: [{ind_tot}]')\n",
    "\n",
    "data_serv = (data_C1*data_C1_p3+data_C1*data_C1_p5+data_M1*data_M1_p3+data_M1*data_M1_p5+data_M2*data_M2_p3+data_M2*data_M2_p5+data_W1*data_W1_p3+data_W1*data_W1_p5)/100\n",
    "\n",
    "serv_tot = np.nansum(data_serv)\n",
    "\n",
    "log_print(f'total service: [{serv_tot}]')\n",
    "\n",
    "writeGeotiffSingleBand(sFile_hous, geotransform, geoproj, data_hous)\n",
    "writeGeotiffSingleBand(sFile_ind, geotransform, geoproj, data_ind)\n",
    "writeGeotiffSingleBand(sFile_serv, geotransform, geoproj, data_serv)\n",
    "\n",
    "\n",
    "\n",
    "\n"
   ]
  },
  {
   "cell_type": "code",
   "execution_count": null,
   "metadata": {},
   "outputs": [],
   "source": []
  }
 ],
 "metadata": {
  "kernelspec": {
   "display_name": "Python 3",
   "language": "python",
   "name": "python3"
  },
  "language_info": {
   "codemirror_mode": {
    "name": "ipython",
    "version": 3
   },
   "file_extension": ".py",
   "mimetype": "text/x-python",
   "name": "python",
   "nbconvert_exporter": "python",
   "pygments_lexer": "ipython3",
   "version": "3.6.4"
  }
 },
 "nbformat": 4,
 "nbformat_minor": 2
}
