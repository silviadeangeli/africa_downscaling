{
 "cells": [
  {
   "cell_type": "code",
   "execution_count": 10,
   "metadata": {},
   "outputs": [],
   "source": [
    "import gdal\n",
    "import shapely\n",
    "import geopandas as gpd\n",
    "import os\n",
    "from functools import partial"
   ]
  },
  {
   "cell_type": "code",
   "execution_count": 11,
   "metadata": {},
   "outputs": [],
   "source": [
    "exposure_to_curve = {}\n",
    "with open('VulFl_Europe.dat', 'r') as f:\n",
    "    for l in f:\n",
    "        l = l.strip()\n",
    "        if ',' in l:\n",
    "            exposure, _, curve = l.split(',')\n",
    "            exposure_to_curve[exposure] = curve"
   ]
  },
  {
   "cell_type": "code",
   "execution_count": 12,
   "metadata": {},
   "outputs": [],
   "source": [
    "def get_curve_and_save(f, r):\n",
    "    k = r.SE_INUNDA\n",
    "    if k is None or k not in exposure_to_curve:\n",
    "        missing_string = f'Cpx{r.CPX}_{r.USE_SECTOR}_{r.BS_TYPE}_{r.RES_TYPE}, {r.VALFIS}\\n'\n",
    "        #print(missing_string)\n",
    "        f.write(str(missing_string))\n",
    "        return None\n",
    "        \n",
    "    return exposure_to_curve[k]\n"
   ]
  },
  {
   "cell_type": "code",
   "execution_count": 13,
   "metadata": {},
   "outputs": [
    {
     "name": "stdout",
     "output_type": "stream",
     "text": [
      "gar_merged.shp\n"
     ]
    }
   ],
   "source": [
    "shps_dir = '/Users/silvia/Desktop/Copernicus_Buna/GAR/gar_merged'\n",
    "shps_out = '/Users/silvia/Desktop/Copernicus_Buna/GAR/gar_merged_curve'\n",
    "\n",
    "shps = os.listdir(shps_dir)\n",
    "shps = filter(lambda s:s.endswith('.shp'), shps)\n",
    "\n",
    "for s in list(shps)[-2:]:\n",
    "    c = 0\n",
    "    print(s)\n",
    "    fin = os.path.join(shps_dir, s)\n",
    "    fout = os.path.join(shps_out, s)    \n",
    "    missing_f = open(s[:-4]+'.txt', 'w', encoding='utf-8')\n",
    "    get_curve = partial(get_curve_and_save, missing_f)\n",
    "    df = gpd.read_file(fin)   \n",
    "    df['curve'] = df.apply (lambda r: get_curve(r), axis=1)\n",
    "    df.to_file(fout)\n",
    "    missing_f.close()"
   ]
  },
  {
   "cell_type": "code",
   "execution_count": null,
   "metadata": {},
   "outputs": [],
   "source": []
  }
 ],
 "metadata": {
  "kernelspec": {
   "display_name": "Python 3",
   "language": "python",
   "name": "python3"
  },
  "language_info": {
   "codemirror_mode": {
    "name": "ipython",
    "version": 3
   },
   "file_extension": ".py",
   "mimetype": "text/x-python",
   "name": "python",
   "nbconvert_exporter": "python",
   "pygments_lexer": "ipython3",
   "version": "3.6.4"
  }
 },
 "nbformat": 4,
 "nbformat_minor": 2
}
